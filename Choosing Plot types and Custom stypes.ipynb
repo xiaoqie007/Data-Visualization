{
 "cells": [
  {
   "cell_type": "markdown",
   "metadata": {},
   "source": [
    "### Choosing Plot types and Custom stypes"
   ]
  },
  {
   "cell_type": "markdown",
   "metadata": {},
   "source": [
    "Since it's not always easy to decide how to best tell the story behind your data,we've broken the chart types into three board categories to help with this."
   ]
  },
  {
   "cell_type": "markdown",
   "metadata": {},
   "source": [
    "  - **Trends**-A trend is defined as a pattern of change.\n",
    "      - < sns.lineplot > - Line charts are best to show trends over a period of time, and multiple lines can be used to show trends in more than one group."
   ]
  },
  {
   "cell_type": "markdown",
   "metadata": {},
   "source": [
    "- **Relationship** - There are many diffierent chart types that you can use to understand relationships between varisbles in your data. \n",
    "    - <sns.barplot> - **Bar charts** are usefull for comparing quantities corresponding to different groups.\n",
    "    - <sns.heatmap> - **Heatmaps** can be used to find color-coded patterns in tables of numbers.\n",
    "    - <sns.scatterplot> - **Scatter plots** show the relationship between two continuous ;if color-coded, we can also show the relationship with a third categorical variable.\n",
    "    - <sns.regplot> - including a **regression line** in the scatter plot makes it easies to see any linear relationship between two variables.\n",
    "    - <sns.lmplot> - This command is useful for drawing multiple regression lines, if the scatter plot contains multiple, color-coded groups.\n",
    "    - <sns.swarmplot> - Categorical scatter plots show the relationship between a continuous variable and a categorical variable.\n",
    "    "
   ]
  },
  {
   "cell_type": "markdown",
   "metadata": {},
   "source": [
    "- **Distribution** - We visualize distributtions to show the possible values that we can expect to see in a variable, along with how likely they are.\n",
    "    - <sns.distplot> - **Histograms** show the distribution of a single numerical varable.\n",
    "    - <sns.kdeplot> - **KDE plot**(or **2D KDE plots**) show an estimated, smooth distribution of a single numerical variable(or two numerical variables).\n",
    "    - <sns.jointplot> - This command is useful for simultaneously displaying a 2D KDE plot with the corresponding KDE plots for each individual variable."
   ]
  },
  {
   "cell_type": "markdown",
   "metadata": {},
   "source": [
    "**Purpose of “%matplotlib inline”**"
   ]
  },
  {
   "cell_type": "markdown",
   "metadata": {},
   "source": [
    "%matplotlib is a magic function in IPython. I'll quote the relevant documentation here for you to read for convenience:\n",
    "\n",
    ">IPython has a set of predefined ‘magic functions’ that you can call with a command line style syntax. There are two kinds of magics, line-oriented and cell-oriented. Line magics are prefixed with the % character and work much like OS command-line calls: they get as an argument the rest of the line, where arguments are passed without parentheses or quotes. Lines magics can return results and can be used in the right hand side of an assignment. Cell magics are prefixed with a double %%, and they are functions that get as an argument not only the rest of the line, but also the lines below it in a separate argument."
   ]
  },
  {
   "cell_type": "markdown",
   "metadata": {},
   "source": [
    "%matplotlib inline sets the backend of matplotlib to the 'inline' backend:"
   ]
  },
  {
   "cell_type": "markdown",
   "metadata": {},
   "source": [
    ">With this backend, the output of plotting commands is displayed inline within frontends like the Jupyter notebook, directly below the code cell that produced it. The resulting plots will then also be stored in the notebook document."
   ]
  },
  {
   "cell_type": "markdown",
   "metadata": {},
   "source": [
    "When using the 'inline' backend, your matplotlib graphs will be included in your notebook, next to the code. It may be worth also reading How to make IPython notebook matplotlib plot inline for reference on how to use it in your code.\n",
    "[How to make IPython notebook matplotlib plot inline](https://stackoverflow.com/questions/19410042/how-to-make-ipython-notebook-matplotlib-plot-inline)\n",
    "\n",
    "If you want interactivity as well, you can use the nbagg backend with %matplotlib notebook (in IPython 3.x), as described here."
   ]
  },
  {
   "cell_type": "code",
   "execution_count": null,
   "metadata": {},
   "outputs": [],
   "source": []
  }
 ],
 "metadata": {
  "kernelspec": {
   "display_name": "Python 3",
   "language": "python",
   "name": "python3"
  },
  "language_info": {
   "codemirror_mode": {
    "name": "ipython",
    "version": 3
   },
   "file_extension": ".py",
   "mimetype": "text/x-python",
   "name": "python",
   "nbconvert_exporter": "python",
   "pygments_lexer": "ipython3",
   "version": "3.7.1"
  }
 },
 "nbformat": 4,
 "nbformat_minor": 2
}
