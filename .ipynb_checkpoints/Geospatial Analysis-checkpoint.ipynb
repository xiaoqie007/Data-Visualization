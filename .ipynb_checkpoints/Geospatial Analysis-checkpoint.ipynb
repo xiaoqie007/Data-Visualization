{
 "cells": [
  {
   "cell_type": "markdown",
   "metadata": {},
   "source": [
    "### Your First Map"
   ]
  },
  {
   "cell_type": "code",
   "execution_count": null,
   "metadata": {},
   "outputs": [],
   "source": [
    "\n",
    "import geopandas as gpd\n",
    "# Read in the data\n",
    "full_data = gpd.read_file(\"../input/geospatial-learn-course-data/DEC_lands/DEC_lands/DEC_lands.shp\")\n",
    "full_data.head()\n",
    "\n",
    "type(full_data)\n",
    "\n",
    "data = full_data.loc[:, [\"CLASS\", \"COUNTY\", \"geometry\"]].copy()\n",
    "\n",
    "# How many lands of each type are there?\n",
    "data.CLASS.value_counts()\n",
    "\n",
    "# Select lands that fall under the \"WILD FOREST\" or \"WILDERNESS\" category\n",
    "wild_lands = data.loc[data.CLASS.isin(['WILD FOREST', 'WILDERNESS'])].copy()\n",
    "wild_lands.head()\n",
    "\n",
    "wild_lands.plot()\n",
    "\n",
    "wild_lands.geometry.head()\n",
    "\n",
    "# Campsites in New York state (Point)\n",
    "POI_data = gpd.read_file(\"../input/geospatial-learn-course-data/DEC_pointsinterest/DEC_pointsinterest/Decptsofinterest.shp\")\n",
    "campsites = POI_data.loc[POI_data.ASSET=='PRIMITIVE CAMPSITE'].copy()\n",
    "\n",
    "# Foot trails in New York state (LineString)\n",
    "roads_trails = gpd.read_file(\"../input/geospatial-learn-course-data/DEC_roadstrails/DEC_roadstrails/Decroadstrails.shp\")\n",
    "trails = roads_trails.loc[roads_trails.ASSET=='FOOT TRAIL'].copy()\n",
    "\n",
    "# County boundaries in New York state (Polygon)\n",
    "counties = gpd.read_file(\"../input/geospatial-learn-course-data/NY_county_boundaries/NY_county_boundaries/NY_county_boundaries.shp\")\n",
    "\n",
    "ax = counties.plot(figsize=(10,10), color='none', edgecolor='gainsboro', zorder=3)\n",
    "wild_lands.plot(color='lightgreen', ax=ax)\n",
    "campsites.plot(color='maroon', markersize=2, ax=ax) #markersize(ms)：点大小\n",
    "trails.plot(color='black', markersize=1, ax=ax)\n",
    "\n",
    "#基础的绘图使用 plt.plot() 命令，并用 plt.show() 显示。"
   ]
  },
  {
   "cell_type": "code",
   "execution_count": null,
   "metadata": {},
   "outputs": [],
   "source": [
    "import geopandas as gpd\n",
    "\n",
    "from learntools.core import binder\n",
    "binder.bind(globals())\n",
    "from learntools.geospatial.ex1 import *"
   ]
  },
  {
   "cell_type": "code",
   "execution_count": null,
   "metadata": {},
   "outputs": [],
   "source": [
    "loans_filepath = \"../input/geospatial-learn-course-data/kiva_loans/kiva_loans/kiva_loans.shp\"\n",
    "\n",
    "# Your code here: Load the data\n",
    "world_loans = gpd.read_file(loans_filepath)\n",
    "\n",
    "# Check your answer\n",
    "q_1.check()\n",
    "\n",
    "# Uncomment to view the first five rows of the data\n",
    "world_loans.head()\n"
   ]
  },
  {
   "cell_type": "code",
   "execution_count": null,
   "metadata": {},
   "outputs": [],
   "source": [
    "# This dataset is provided in GeoPandas\n",
    "world_filepath = gpd.datasets.get_path('naturalearth_lowres')\n",
    "world = gpd.read_file(world_filepath)\n",
    "world.head()"
   ]
  },
  {
   "cell_type": "code",
   "execution_count": null,
   "metadata": {},
   "outputs": [],
   "source": [
    "\n",
    "ax = world.plot(figsize=(20,20), color='whitesmoke', linestyle=':', edgecolor='black')\n",
    "world_loans.plot(ax=ax, markersize=2)"
   ]
  },
  {
   "cell_type": "code",
   "execution_count": null,
   "metadata": {},
   "outputs": [],
   "source": [
    "#coordinate reference system(CRS) 坐标参考系统"
   ]
  },
  {
   "cell_type": "markdown",
   "metadata": {},
   "source": [
    "#### coordinate reference system(CRS) 坐标参考系统"
   ]
  },
  {
   "cell_type": "code",
   "execution_count": null,
   "metadata": {},
   "outputs": [],
   "source": [
    "import geopandas as gpd\n",
    "import pandas as pd"
   ]
  },
  {
   "cell_type": "code",
   "execution_count": null,
   "metadata": {},
   "outputs": [],
   "source": [
    "# Load a GeoDataFrame containing regions in Ghana\n",
    "regions = gpd.read_file(\"../input/geospatial-learn-course-data/ghana/ghana/Regions/Map_of_Regions_in_Ghana.shp\")\n",
    "print(regions.crs)"
   ]
  },
  {
   "cell_type": "code",
   "execution_count": null,
   "metadata": {},
   "outputs": [],
   "source": [
    "# Create a DataFrame with health facilities in Ghana\n",
    "facilities_df = pd.read_csv(\"../input/geospatial-learn-course-data/ghana/ghana/health_facilities.csv\")\n",
    "\n",
    "# Convert the DataFrame to a GeoDataFrame\n",
    "facilities = gpd.GeoDataFrame(facilities_df, geometry=gpd.points_from_xy(facilities_df.Longitude, facilities_df.Latitude))\n",
    "\n",
    "# Set the coordinate reference system (CRS) to EPSG 4326\n",
    "facilities.crs = {'init': 'epsg:4326'}\n",
    "\n",
    "# View the first five rows of the GeoDataFrame\n",
    "facilities.head()"
   ]
  },
  {
   "cell_type": "markdown",
   "metadata": {},
   "source": [
    "- We begin by creating a DataFrame containing columns with latitude and longitude coordinates.\n",
    "- To convert it to a GeoDataFrame, we use gpd.GeoDataFrame().\n",
    "- The gpd.points_from_xy() function creates Point objects from the latitude and longitude columns."
   ]
  },
  {
   "cell_type": "markdown",
   "metadata": {},
   "source": [
    "Re-projecting"
   ]
  },
  {
   "cell_type": "code",
   "execution_count": null,
   "metadata": {},
   "outputs": [],
   "source": [
    "# Create a map\n",
    "ax = regions.plot(figsize=(8,8), color='whitesmoke', linestyle=':', edgecolor='black')\n",
    "facilities.to_crs(epsg=32630).plot(markersize=1, ax=ax)\n",
    "\n",
    "#The to_crs() method modifies only the \"geometry\" column:\n",
    "#all other columns are left as-is."
   ]
  },
  {
   "cell_type": "markdown",
   "metadata": {},
   "source": [
    "[linestyle:](https://matplotlib.org/3.1.0/api/_as_gen/matplotlib.lines.Line2D.html#matplotlib.lines.Line2D.set_linestyle)"
   ]
  },
  {
   "cell_type": "code",
   "execution_count": null,
   "metadata": {},
   "outputs": [],
   "source": [
    "# The \"Latitude\" and \"Longitude\" columns are unchanged\n",
    "facilities.to_crs(epsg=32630).head()"
   ]
  },
  {
   "cell_type": "markdown",
   "metadata": {},
   "source": [
    "In case the EPSG code is not available in GeoPandas, we can change the CRS with what's known as the \"proj4 string\" of the CRS. For instance, the proj4 string to convert to latitude/longitude coordinates is as follows:\n",
    "`+proj=longlat +ellps=WGS84 +datum=WGS84 +no_defs`"
   ]
  },
  {
   "cell_type": "code",
   "execution_count": null,
   "metadata": {},
   "outputs": [],
   "source": [
    "# Change the CRS to EPSG 4326\n",
    "regions.to_crs(\"+proj=longlat +ellps=WGS84 +datum=WGS84 +no_defs\").head()"
   ]
  },
  {
   "cell_type": "markdown",
   "metadata": {},
   "source": [
    "#### Attributes of geometric objects"
   ]
  },
  {
   "cell_type": "markdown",
   "metadata": {},
   "source": [
    "As you learned in the first tutorial, for an arbitrary GeoDataFrame, the type in the \"geometry\" column depends on what we are trying to show: for instance, we might use:\n",
    "\n",
    "- a Point for the epicenter of an earthquake,\n",
    "- a LineString for a street, or\n",
    "- a Polygon to show country boundaries.\n",
    "\n",
    "All three types of geometric objects have built-in attributes that you can use to quickly analyze the dataset. For instance, you can get the x- and y-coordinates of a Point from the x and y attributes, respectively."
   ]
  },
  {
   "cell_type": "code",
   "execution_count": null,
   "metadata": {},
   "outputs": [],
   "source": [
    "# Get the x-coordinate of each point\n",
    "facilities.geometry.x.head()"
   ]
  },
  {
   "cell_type": "markdown",
   "metadata": {},
   "source": [
    "And, you can get the length of a LineString from the length attribute.\n",
    "\n",
    "Or, you can get the area of a Polygon from the area attribute."
   ]
  },
  {
   "cell_type": "code",
   "execution_count": null,
   "metadata": {},
   "outputs": [],
   "source": [
    "# Calculate the area (in square meters) of each polygon in the GeoDataFrame \n",
    "regions.loc[:, \"AREA\"] = regions.geometry.area / 10**6\n",
    "\n",
    "print(\"Area of Ghana: {} square kilometers\".format(regions.AREA.sum()))\n",
    "print(\"CRS:\", regions.crs)\n",
    "regions.head()"
   ]
  },
  {
   "cell_type": "markdown",
   "metadata": {},
   "source": [
    "In the code cell above, since the CRS of the regions GeoDataFrame is set to EPSG 32630 (a \"Mercator\" projection), the area calculation is slightly less accurate than if we had used an equal-area projection like \"Africa Albers Equal Area Conic\".\n",
    "\n",
    "But this yields the area of Ghana as approximately 239585 square kilometers, which is not too far off from the correct answer."
   ]
  },
  {
   "cell_type": "code",
   "execution_count": null,
   "metadata": {},
   "outputs": [],
   "source": [
    "# Your code here\n",
    "ax = south_america.plot(figsize=(10,10), color='white', edgecolor='gray')\n",
    "protected_areas[protected_areas['MARINE']!='2'].plot(ax=ax, alpha=0.4, zorder=1)\n",
    "birds[birds.geometry.y < 0].plot(ax=ax, color='red', alpha=0.6, markersize=10, zorder=2)\n",
    "\n",
    "\n",
    "# Uncomment to see a hint\n",
    "q_8.hint()"
   ]
  },
  {
   "cell_type": "markdown",
   "metadata": {},
   "source": [
    "### interactive maps"
   ]
  },
  {
   "cell_type": "markdown",
   "metadata": {},
   "source": [
    "In this tutorial, you'll learn how to create interactive maps with **the folium package** .Along the way, you'll apply your new skills to visualize Boston crime data."
   ]
  },
  {
   "cell_type": "code",
   "execution_count": null,
   "metadata": {},
   "outputs": [],
   "source": [
    "import pandas as pd\n",
    "import geopandas as gpd\n",
    "import math"
   ]
  },
  {
   "cell_type": "code",
   "execution_count": null,
   "metadata": {},
   "outputs": [],
   "source": [
    "import folium\n",
    "from folium import Choropleth, Circle,Marker\n",
    "from folium.plugins import HeatMap, MarkerCluster"
   ]
  },
  {
   "cell_type": "markdown",
   "metadata": {},
   "source": [
    "We define a function **embed_map()** for displaying interactive maps. It accepts two arguments: the variable containing the map, and the name of the HTML file where the map will be saved.\n",
    "\n",
    "This function ensures that the maps are visible in all web browsers."
   ]
  },
  {
   "cell_type": "code",
   "execution_count": null,
   "metadata": {},
   "outputs": [],
   "source": [
    "# Function for displaying the map\n",
    "def embed.map(m, file_name):\n",
    "    from IPython.display import IFrame\n",
    "    m.save(file_name)]\n",
    "    return IFrame(file_name, width= '100%', height= '500px')"
   ]
  },
  {
   "cell_type": "code",
   "execution_count": null,
   "metadata": {},
   "outputs": [],
   "source": [
    "#Create a map\n",
    "m_1= folium.map(location= [42.32, -71.0589], title= 'openstreetmap', zoom_strat= 10)\n",
    "\n",
    "#Display the map\n",
    "embed_map(m_1, 'm_1.html')"
   ]
  },
  {
   "cell_type": "markdown",
   "metadata": {},
   "source": [
    "- **location** sets the initial center of the map. We use the latitude (42.32° N) and longitude (-71.0589° E) of the city of Boston.\n",
    "- **tiles** changes the styling of the map; in this case, we choose the OpenStreetMap style. If you're curious, you can find the other options listed here.\n",
    "- **zoom_start** sets the initial level of zoom of the map, where higher values zoom in closer to the map."
   ]
  },
  {
   "cell_type": "markdown",
   "metadata": {},
   "source": [
    "Now, we'll add some crime data to the map!"
   ]
  },
  {
   "cell_type": "code",
   "execution_count": null,
   "metadata": {},
   "outputs": [],
   "source": [
    "# Load the data\n",
    "crimes = pd.read_csv(\"../input/geospatial-learn-course-data/crimes-in-boston/crimes-in-boston/crime.csv\", encoding='latin-1')\n",
    "\n",
    "# Drop rows with missing locations\n",
    "crimes.dropna(subset=['Lat', 'Long', 'DISTRICT'], inplace=True)\n",
    "\n",
    "# Focus on major crimes in 2018\n",
    "crimes = crimes[crimes.OFFENSE_CODE_GROUP.isin([\n",
    "    'Larceny', 'Auto Theft', 'Robbery', 'Larceny From Motor Vehicle', 'Residential Burglary',\n",
    "    'Simple Assault', 'Harassment', 'Ballistics', 'Aggravated Assault', 'Other Burglary', \n",
    "    'Arson', 'Commercial Burglary', 'HOME INVASION', 'Homicide', 'Criminal Harassment', \n",
    "    'Manslaughter'])]\n",
    "crimes = crimes[crimes.YEAR>=2018]\n",
    "\n",
    "# Print the first five rows of the table\n",
    "crimes.head()"
   ]
  },
  {
   "cell_type": "markdown",
   "metadata": {},
   "source": [
    "To reduce the amount of data we need to fit on the map, we'll (temporarily) confine our attention to daytime robberies."
   ]
  },
  {
   "cell_type": "code",
   "execution_count": null,
   "metadata": {},
   "outputs": [],
   "source": [
    "daytime_robberies = crimes[((crimes.OFFENSE_CODE_GROUP == 'Robbery') & \\\n",
    "                            (crimes.HOUR.isin(range(9,18))))]"
   ]
  },
  {
   "cell_type": "markdown",
   "metadata": {},
   "source": [
    "**folium.Marker**"
   ]
  },
  {
   "cell_type": "markdown",
   "metadata": {},
   "source": [
    "We add markers to the map with folium.Marker(). Each marker below corresponds to a different robbery."
   ]
  },
  {
   "cell_type": "code",
   "execution_count": null,
   "metadata": {},
   "outputs": [],
   "source": [
    "# Create a map\n",
    "m_2 = folium.Map(location=[42.32,-71.0589], tiles='cartodbpositron', zoom_start=13)\n",
    "\n",
    "# Add points to the map\n",
    "for idx, row in daytime_robberies.iterrows():\n",
    "    Marker([row['Lat'], row['Long']]).add_to(m_2)\n",
    "\n",
    "# Display the map\n",
    "embed_map(m_2, 'm_2.html')"
   ]
  },
  {
   "cell_type": "markdown",
   "metadata": {},
   "source": [
    "**folium.plugins.MarkerCluster**"
   ]
  },
  {
   "cell_type": "markdown",
   "metadata": {},
   "source": [
    "If we have a lot of markers to add, **folium.plugins.MarkerCluster()** can help to declutter the map. Each marker is added to a MarkerCluster object."
   ]
  },
  {
   "cell_type": "code",
   "execution_count": null,
   "metadata": {},
   "outputs": [],
   "source": [
    "# Create the map\n",
    "m_3 = folium.Map(location=[42.32,-71.0589], tiles='cartodbpositron', zoom_start=13)\n",
    "\n",
    "# Add points to the map\n",
    "mc = MarkerCluster()\n",
    "for idx, row in daytime_robberies.iterrows():\n",
    "    if not math.isnan(row['Long']) and not math.isnan(row['Lat']):\n",
    "        mc.add_child(Marker([row['Lat'], row['Long']]))\n",
    "m_3.add_child(mc)\n",
    "\n",
    "# Display the map\n",
    "embed_map(m_3, 'm_3.html')"
   ]
  },
  {
   "cell_type": "markdown",
   "metadata": {},
   "source": [
    "**Bubble maps**"
   ]
  },
  {
   "cell_type": "markdown",
   "metadata": {},
   "source": [
    "A bubble map uses circles instead of markers. By varying the size and color of each circle, we can also show the relationship between location and two other variables.\n",
    "\n",
    "We create a bubble map by using folium.Circle() to iteratively add circles. In the code cell below, robberies that occurred in hours 9-12 are plotted in green, whereas robberies from hours 13-17 are plotted in red."
   ]
  },
  {
   "cell_type": "code",
   "execution_count": null,
   "metadata": {},
   "outputs": [],
   "source": [
    "# Create a base map\n",
    "m_4 = folium.Map(location=[42.32,-71.0589], tiles='cartodbpositron', zoom_start=13)\n",
    "\n",
    "def color_producer(val):\n",
    "    if val <= 12:\n",
    "        return 'forestgreen'\n",
    "    else:\n",
    "        return 'darkred'\n",
    "\n",
    "# Add a bubble map to the base map\n",
    "for i in range(0,len(daytime_robberies)):\n",
    "    Circle(\n",
    "        location=[daytime_robberies.iloc[i]['Lat'], daytime_robberies.iloc[i]['Long']],\n",
    "        radius=20,\n",
    "        color=color_producer(daytime_robberies.iloc[i]['HOUR'])).add_to(m_4)\n",
    "\n",
    "# Display the map\n",
    "embed_map(m_4, 'm_4.html')\n"
   ]
  },
  {
   "cell_type": "markdown",
   "metadata": {},
   "source": [
    "- **location** is a list containing the center of the circle, in latitude and longitude.\n",
    "- **radius** sets the radius of the circle.\n",
    " - Note that in a traditional bubble map, the radius of each circle is allowed to vary. We can implement this by defining a function similar to the color_producer() function that is used to vary the color of each circle.\n",
    "- **color** sets the color of each circle.\n",
    " - The color_producer() function is used to visualize the effect of the hour on robbery location."
   ]
  },
  {
   "cell_type": "markdown",
   "metadata": {},
   "source": [
    "**Heatmaps**"
   ]
  },
  {
   "cell_type": "markdown",
   "metadata": {},
   "source": [
    "To create a heatmap, we use **folium.plugins.HeatMap()**. This shows the density of crime in different areas of the city, where red areas have relatively more criminal incidents.\n",
    "\n",
    "As we'd expect for a big city, most of the crime happens near the center."
   ]
  },
  {
   "cell_type": "code",
   "execution_count": null,
   "metadata": {},
   "outputs": [],
   "source": [
    "# Create a base map\n",
    "m_5 = folium.Map(location=[42.32,-71.0589], tiles='cartodbpositron', zoom_start=12)\n",
    "\n",
    "# Add a heatmap to the base map\n",
    "HeatMap(data=crimes[['Lat', 'Long']], radius=10).add_to(m_5)\n",
    "\n",
    "# Display the map\n",
    "embed_map(m_5, 'm_5.html')"
   ]
  },
  {
   "cell_type": "markdown",
   "metadata": {},
   "source": [
    "As you can see in the code cell above, folium.plugins.HeatMap() takes a couple of arguments:\n",
    "\n",
    "- **data** is a DataFrame containing the locations that we'd like to plot.\n",
    "- **radius** controls the smoothness of the heatmap. Higher values make the heatmap look smoother (i.e., with fewer gaps)."
   ]
  },
  {
   "cell_type": "markdown",
   "metadata": {},
   "source": [
    "**Choropleth maps**"
   ]
  },
  {
   "cell_type": "code",
   "execution_count": null,
   "metadata": {},
   "outputs": [],
   "source": [
    "# GeoDataFrame with geographical boundaries of Boston police districts\n",
    "districts_full = gpd.read_file('../input/geospatial-learn-course-data/Police_Districts/Police_Districts/Police_Districts.shp')\n",
    "districts = districts_full[[\"DISTRICT\", \"geometry\"]].set_index(\"DISTRICT\")\n",
    "districts.head()"
   ]
  },
  {
   "cell_type": "markdown",
   "metadata": {},
   "source": [
    "We also create a Pandas Series called plot_dict that shows the number of crimes in each district."
   ]
  },
  {
   "cell_type": "code",
   "execution_count": null,
   "metadata": {},
   "outputs": [],
   "source": [
    "# Number of crimes in each police district\n",
    "plot_dict = crimes.DISTRICT.value_counts()\n",
    "plot_dict.head()"
   ]
  },
  {
   "cell_type": "markdown",
   "metadata": {},
   "source": [
    "It's very important that plot_dict has the same index as districts - this is how the code knows how to match the geographical boundaries with appropriate colors.\n",
    "\n",
    "Using the folium.Choropleth() class, we can create a choropleth map."
   ]
  },
  {
   "cell_type": "code",
   "execution_count": null,
   "metadata": {},
   "outputs": [],
   "source": [
    "# Create a base map\n",
    "m_6 = folium.Map(location=[42.32,-71.0589], tiles='cartodbpositron', zoom_start=12)\n",
    "\n",
    "# Add a choropleth map to the base map\n",
    "Choropleth(geo_data=districts.__geo_interface__, \n",
    "           data=plot_dict, \n",
    "           key_on=\"feature.id\", \n",
    "           fill_color='YlGnBu', \n",
    "           legend_name='Major criminal incidents (Jan-Aug 2018)'\n",
    "          ).add_to(m_6)\n",
    "\n",
    "# Display the map\n",
    "embed_map(m_6, 'm_6.html')"
   ]
  },
  {
   "cell_type": "markdown",
   "metadata": {},
   "source": [
    "Note that folium.Choropleth() takes several arguments:\n",
    "\n",
    "- **geo_data** is a GeoJSON FeatureCollection containing the boundaries of each geographical area.\n",
    "  - In the code above, we convert the districts GeoDataFrame to a *GeoJSON FeatureCollection* with the **__geo_interface__** attribute.\n",
    "- **data** is a Pandas Series containing the values that will be used to color-code each geographical area.\n",
    "- **key_on** will always be set to feature.id.\n",
    "  - This refers to the fact that the GeoDataFrame used for geo_data and the Pandas Series provided in data have the same index. To understand the details, we'd have to look more closely at the structure of a GeoJSON Feature Collection (where the value corresponding to the \"features\" key is a list, wherein each entry is a dictionary containing an \"id\" key).\n",
    "- **fill_color** sets the color scale.\n",
    "- **legend_name** labels the legend in the top right corner of the map."
   ]
  },
  {
   "cell_type": "markdown",
   "metadata": {},
   "source": [
    "### manipulating-geospatial-data"
   ]
  },
  {
   "cell_type": "markdown",
   "metadata": {},
   "source": [
    "n this tutorial, you'll learn about two common manipulations for geospatial data: `geocoding` and `table` joins."
   ]
  },
  {
   "cell_type": "code",
   "execution_count": null,
   "metadata": {},
   "outputs": [],
   "source": [
    "import pandas as pd\n",
    "import geopandas as gpd\n",
    "import numpy as np\n",
    "import folium\n",
    "from folium import Marker\n",
    "\n",
    "# Function for displaying the map\n",
    "def embed_map(m, file_name):\n",
    "    from IPython.display import IFrame\n",
    "    m.save(file_name)\n",
    "    return IFrame(file_name, width='100%', height='500px')"
   ]
  },
  {
   "cell_type": "markdown",
   "metadata": {},
   "source": [
    "We'll use geopandas to do all of our geocoding."
   ]
  },
  {
   "cell_type": "code",
   "execution_count": null,
   "metadata": {},
   "outputs": [],
   "source": [
    "from geopandas.tools import geocode"
   ]
  },
  {
   "cell_type": "markdown",
   "metadata": {},
   "source": [
    "To use the geocoder, we need only provide:\n",
    "\n",
    "- the name or address as a Python string, and\n",
    "- the name of the provider; to avoid having to provide an API key, we'll use the **OpenStreetMap Nominatim geocoder**.\n",
    "- If the geocoding is successful, it returns a GeoDataFrame with two columns:\n",
    "\n",
    "the **\"geometry\" column** contains the (latitude, longitude) location, and\n",
    "the **\"address\" column** contains the full address."
   ]
  },
  {
   "cell_type": "code",
   "execution_count": null,
   "metadata": {},
   "outputs": [],
   "source": [
    "result = geocode(\"The Great Pyramid of Giza\", provider=\"nominatim\")\n",
    "result"
   ]
  },
  {
   "cell_type": "markdown",
   "metadata": {},
   "source": [
    "The entry in the \"geometry\" column is a Point object, and we can get the latitude and longitude from the `y` and `x` attributes, respectively."
   ]
  },
  {
   "cell_type": "code",
   "execution_count": null,
   "metadata": {},
   "outputs": [],
   "source": [
    "point = result.geometry.iloc[0]\n",
    "print(\"Latitude:\", point.y)\n",
    "print(\"Longitude:\", point.x)"
   ]
  },
  {
   "cell_type": "markdown",
   "metadata": {},
   "source": [
    "It's often the case that we'll need to geocode many different addresses. For instance, say we want to obtain the locations of 100 top universities in Europe."
   ]
  },
  {
   "cell_type": "code",
   "execution_count": null,
   "metadata": {},
   "outputs": [],
   "source": [
    "universities = pd.read_csv(\"../input/geospatial-learn-course-data/top_universities.csv\")\n",
    "universities.head()"
   ]
  },
  {
   "cell_type": "markdown",
   "metadata": {},
   "source": [
    "Then we can use a lambda function to apply the geocoder to every row in the DataFrame. (We use a try/except statement to account for the case that the geocoding is unsuccessful.)"
   ]
  },
  {
   "cell_type": "code",
   "execution_count": null,
   "metadata": {},
   "outputs": [],
   "source": [
    "def my_geocoder(row):\n",
    "    try:\n",
    "        point= geocode(row, provider= 'nominatim').geometry.iloc[0]\n",
    "        return pd.Series({'Latitude': point.y, 'Longitude': point.x, 'geometry': point})\n",
    "    except:\n",
    "        return None\n",
    "    universities[['Latitude', 'longitude', 'geometry']] = universities.apply(lambda x:\n",
    "                                                                             my_geocoder(x['Name']),\n",
    "                                                                            axis= 1)\n",
    "    print(\"{}% of addresses were geocode!\".format(\n",
    "        （1- \n",
    "        sum(np.isnan(universities[\"Latitude\"]))/ len(unoversities)\n",
    "        )*100)\n",
    "        )\n",
    "#Drop universities that were not successfully geocoded\n",
    "universities = universities.loc[~np.isnan(universities[\"Latitude\"])]\n",
    "universities= gpd.GeoDataFrame(universities, geometry= universities.geometry)\n",
    "universities.crs= {'init': 'epsg': 4326}\n",
    "universities.head()"
   ]
  },
  {
   "cell_type": "code",
   "execution_count": null,
   "metadata": {},
   "outputs": [],
   "source": [
    "#Creat a map\n",
    "m= folium.Map(location= [54, 15], titles= 'openstreetmap', zoom_start= 2)\n",
    "#Add points to yhe map\n",
    "for idx, row in universites.iterrows():\n",
    "    Marker([row['Latitude'], row['Longitude']], popup= row['Name']).add_to(m)\n",
    "#Display the map\n",
    "embed_map(m, 'm.html')"
   ]
  },
  {
   "cell_type": "markdown",
   "metadata": {},
   "source": [
    "#### proximity analysis."
   ]
  },
  {
   "cell_type": "markdown",
   "metadata": {},
   "source": [
    "Introduction\n",
    "In this tutorial, you'll explore several techniques for proximity analysis. In particular, you'll learn how to do such things as:\n",
    "\n",
    "- measure the distance between points on a map, and\n",
    "- select all points within some radius of a feature."
   ]
  },
  {
   "cell_type": "code",
   "execution_count": null,
   "metadata": {},
   "outputs": [],
   "source": [
    "import folium\n",
    "from folium import Marker, GeoJson\n",
    "from folium.plugins import HeatMap\n",
    "\n",
    "import pandas as pd\n",
    "import geopandas as gpd\n",
    "\n",
    "# Function for displaying the map\n",
    "def embed_map(m, file_name):\n",
    "    from IPython.display import IFrame\n",
    "    m.save(file_name)\n",
    "    return IFrame(file_name, width='100%', height='500px')"
   ]
  },
  {
   "cell_type": "code",
   "execution_count": null,
   "metadata": {},
   "outputs": [],
   "source": [
    "releases = gpd.read_file(\"../input/geospatial-learn-course-data/toxic_release_pennsylvania/toxic_release_pennsylvania/toxic_release_pennsylvania.shp\") \n",
    "releases.head()"
   ]
  },
  {
   "cell_type": "code",
   "execution_count": null,
   "metadata": {},
   "outputs": [],
   "source": [
    "stations = gpd.read_file(\"../input/geospatial-learn-course-data/PhillyHealth_Air_Monitoring_Stations/PhillyHealth_Air_Monitoring_Stations/PhillyHealth_Air_Monitoring_Stations.shp\")\n",
    "stations.head()"
   ]
  },
  {
   "cell_type": "markdown",
   "metadata": {},
   "source": [
    "- Measuring distance"
   ]
  },
  {
   "cell_type": "code",
   "execution_count": null,
   "metadata": {},
   "outputs": [],
   "source": [
    "print(stations.crs)\n",
    "print(releases.crs)"
   ]
  },
  {
   "cell_type": "code",
   "execution_count": null,
   "metadata": {},
   "outputs": [],
   "source": [
    "# Select one release incident in particular\n",
    "recent_release = releases.iloc[360]\n",
    "\n",
    "# Measure distance from release to each station\n",
    "distances = stations.geometry.distance(recent_release.geometry)\n",
    "distances"
   ]
  },
  {
   "cell_type": "code",
   "execution_count": null,
   "metadata": {},
   "outputs": [],
   "source": [
    "print('Mean distance to monitoring stations: {} feet'.format(distances.mean()))"
   ]
  },
  {
   "cell_type": "code",
   "execution_count": null,
   "metadata": {},
   "outputs": [],
   "source": [
    "print('Closest monitoring station ({} feet):'.format(distances.min()))\n",
    "print(stations.iloc[distances.idxmin()][[\"ADDRESS\", \"LATITUDE\", \"LONGITUDE\"]])"
   ]
  },
  {
   "cell_type": "markdown",
   "metadata": {},
   "source": [
    "- Creating a buffer"
   ]
  },
  {
   "cell_type": "code",
   "execution_count": null,
   "metadata": {},
   "outputs": [],
   "source": [
    "two_mile_buffer = stations.geometry.buffer(2*5280)\n",
    "two_mile_buffer.head()"
   ]
  },
  {
   "cell_type": "code",
   "execution_count": null,
   "metadata": {},
   "outputs": [],
   "source": [
    "# Create map with release incidents and monitoring stations\n",
    "m = folium.Map(location=[39.9526,-75.1652], zoom_start=11)\n",
    "HeatMap(data=releases[['LATITUDE', 'LONGITUDE']], radius=15).add_to(m)\n",
    "for idx, row in stations.iterrows():\n",
    "    Marker([row['LATITUDE'], row['LONGITUDE']]).add_to(m)\n",
    "    \n",
    "# Plot each polygon on the map\n",
    "GeoJson(two_mile_buffer.to_crs(epsg=4326)).add_to(m)\n",
    "\n",
    "# Show the map\n",
    "embed_map(m, 'm1.html')"
   ]
  },
  {
   "cell_type": "code",
   "execution_count": null,
   "metadata": {},
   "outputs": [],
   "source": [
    "# Turn group of polygons into single multipolygon\n",
    "my_union = two_mile_buffer.geometry.unary_union\n",
    "print('Type:', type(my_union))\n",
    "\n",
    "# Show the MultiPolygon object\n",
    "my_union"
   ]
  },
  {
   "cell_type": "code",
   "execution_count": null,
   "metadata": {},
   "outputs": [],
   "source": [
    "# The closest station is less than two miles away\n",
    "my_union.contains(releases.iloc[360].geometry)"
   ]
  },
  {
   "cell_type": "code",
   "execution_count": null,
   "metadata": {},
   "outputs": [],
   "source": [
    "# The closest station is more than two miles away\n",
    "my_union.contains(releases.iloc[358].geometry)"
   ]
  }
 ],
 "metadata": {
  "kernelspec": {
   "display_name": "Python 3",
   "language": "python",
   "name": "python3"
  },
  "language_info": {
   "codemirror_mode": {
    "name": "ipython",
    "version": 3
   },
   "file_extension": ".py",
   "mimetype": "text/x-python",
   "name": "python",
   "nbconvert_exporter": "python",
   "pygments_lexer": "ipython3",
   "version": "3.7.1"
  }
 },
 "nbformat": 4,
 "nbformat_minor": 2
}
